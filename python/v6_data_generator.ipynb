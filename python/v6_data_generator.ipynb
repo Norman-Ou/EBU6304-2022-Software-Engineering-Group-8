{
 "cells": [
  {
   "cell_type": "code",
   "execution_count": 17,
   "metadata": {},
   "outputs": [],
   "source": [
    "import json\n",
    "import pprint as ppt\n",
    "\n",
    "order_data = list()\n",
    "passenger_data = list()\n",
    "flight_data = list()\n",
    "\n",
    "with open(\"order_data_v4.json\", \"r+\") as file_obj:\n",
    "    order_data = json.load(file_obj)\n",
    "with open(\"passenger_data_v5.json\", \"r+\") as file_obj:\n",
    "    passenger_data = json.load(file_obj)\n",
    "with open(\"flight_data_v4.json\", \"r+\") as file_obj:\n",
    "    flight_data = json.load(file_obj)"
   ]
  },
  {
   "cell_type": "code",
   "execution_count": 7,
   "metadata": {},
   "outputs": [
    {
     "name": "stdout",
     "output_type": "stream",
     "text": [
      "Current order data length is: 56\n",
      "Current passenger data length is: 56\n",
      "Current flight data length is: 4\n"
     ]
    }
   ],
   "source": [
    "print(\"Current order data length is: {}\".format(len(order_data)))\n",
    "print(\"Current passenger data length is: {}\".format(len(passenger_data)))\n",
    "print(\"Current flight data length is: {}\".format(len(flight_data)))"
   ]
  },
  {
   "cell_type": "code",
   "execution_count": 12,
   "metadata": {},
   "outputs": [],
   "source": [
    "order_passenger_list = [obj['passengerID'] for obj in order_data]\n",
    "passenger_id_list = [obj['passengerId'] for obj in passenger_data]\n",
    "\n",
    "order_set = set(order_passenger_list)\n",
    "passenger_set = set(passenger_id_list)"
   ]
  },
  {
   "cell_type": "code",
   "execution_count": 13,
   "metadata": {},
   "outputs": [],
   "source": [
    "for pid in order_passenger_list:\n",
    "    if pid not in passenger_set: print(pid)\n",
    "\n",
    "for pid in passenger_id_list:\n",
    "    if pid not in order_set: print(pid)"
   ]
  },
  {
   "cell_type": "code",
   "execution_count": 18,
   "metadata": {},
   "outputs": [],
   "source": [
    "for flight in flight_data:\n",
    "    seating_list = flight['seatingList']\n",
    "    for seat_no, seat in seating_list.items():\n",
    "        del seat['checkinStatus']\n",
    "        seating_list[seat_no] = seat\n",
    "    flight['seatingList'] = seating_list"
   ]
  },
  {
   "cell_type": "code",
   "execution_count": 21,
   "metadata": {},
   "outputs": [],
   "source": [
    "with open('flight_data_v5.json', 'w+', encoding='utf-8') as file_obj:\n",
    "    json.dump(flight_data, file_obj, ensure_ascii=False)"
   ]
  },
  {
   "cell_type": "code",
   "execution_count": 22,
   "metadata": {},
   "outputs": [],
   "source": [
    "for passenger in passenger_data:\n",
    "    passenger['checkInStatus'] = -1\n",
    "    baggage = passenger['baggage']\n",
    "    baggage['baggageNo'] = \"-1\"\n",
    "    baggage['dropCounter'] = \"-1\"\n",
    "    passenger['baggage'] = baggage"
   ]
  },
  {
   "cell_type": "code",
   "execution_count": 24,
   "metadata": {},
   "outputs": [],
   "source": [
    "with open('passenger_data_v6.json', 'w+', encoding='utf-8') as file_obj:\n",
    "    json.dump(passenger_data, file_obj, ensure_ascii=False)"
   ]
  },
  {
   "cell_type": "code",
   "execution_count": null,
   "metadata": {},
   "outputs": [],
   "source": []
  }
 ],
 "metadata": {
  "interpreter": {
   "hash": "2e918aaa81d99c652401bdd1a0c185581595fb477ac919641bd65261b5d7782a"
  },
  "kernelspec": {
   "display_name": "Python 3.8.5 ('base')",
   "language": "python",
   "name": "python3"
  },
  "language_info": {
   "codemirror_mode": {
    "name": "ipython",
    "version": 3
   },
   "file_extension": ".py",
   "mimetype": "text/x-python",
   "name": "python",
   "nbconvert_exporter": "python",
   "pygments_lexer": "ipython3",
   "version": "3.8.5"
  },
  "orig_nbformat": 4
 },
 "nbformat": 4,
 "nbformat_minor": 2
}
