{
 "cells": [
  {
   "cell_type": "code",
   "execution_count": 1,
   "metadata": {},
   "outputs": [],
   "source": [
    "import json\n",
    "\n",
    "passenger = list()\n",
    "\n",
    "with open(\"passenger_data_v4.json\", \"r+\") as file_obj:\n",
    "    passenger = json.load(file_obj)"
   ]
  },
  {
   "cell_type": "code",
   "execution_count": 4,
   "metadata": {},
   "outputs": [],
   "source": [
    "import numpy as np\n",
    "\n",
    "def randfloat(num, l, h):\n",
    "    if l > h:\n",
    "        return None\n",
    "    else:\n",
    "        a = h - l\n",
    "        b = h - a\n",
    "        out = (np.random.rand(num) * a + b).tolist()\n",
    "        out = np.array(out)\n",
    "        return out"
   ]
  },
  {
   "cell_type": "code",
   "execution_count": 5,
   "metadata": {},
   "outputs": [],
   "source": [
    "for obj in passenger:\n",
    "    cur_baggage = obj['baggage']\n",
    "    cur_baggage['baggageWeight'] = int(randfloat(1, 2, 30))\n",
    "    obj['baggage'] = cur_baggage"
   ]
  },
  {
   "cell_type": "code",
   "execution_count": 9,
   "metadata": {},
   "outputs": [],
   "source": [
    "# res_passenger = [ele for ele in passenger.values()]\n",
    "\n",
    "# with open('passenger_data_v5.json', 'w+', encoding='utf-8') as file_obj:\n",
    "#     json.dump(passenger, file_obj, indent=4, ensure_ascii=False)\n",
    "with open('passenger_data_v5.json', 'w+', encoding='utf-8') as file_obj:\n",
    "    json.dump(passenger, file_obj, ensure_ascii=False)"
   ]
  },
  {
   "cell_type": "code",
   "execution_count": null,
   "metadata": {},
   "outputs": [],
   "source": []
  }
 ],
 "metadata": {
  "interpreter": {
   "hash": "2e918aaa81d99c652401bdd1a0c185581595fb477ac919641bd65261b5d7782a"
  },
  "kernelspec": {
   "display_name": "Python 3.8.5 ('base')",
   "language": "python",
   "name": "python3"
  },
  "language_info": {
   "codemirror_mode": {
    "name": "ipython",
    "version": 3
   },
   "file_extension": ".py",
   "mimetype": "text/x-python",
   "name": "python",
   "nbconvert_exporter": "python",
   "pygments_lexer": "ipython3",
   "version": "3.8.5"
  },
  "orig_nbformat": 4
 },
 "nbformat": 4,
 "nbformat_minor": 2
}
