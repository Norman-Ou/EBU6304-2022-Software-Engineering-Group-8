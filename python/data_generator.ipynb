{
 "cells": [
  {
   "cell_type": "code",
   "execution_count": null,
   "metadata": {},
   "outputs": [],
   "source": [
    "import json\n",
    "\n",
    "flight_data = dict()\n",
    "order_data = dict()\n",
    "passenger_data = dict()\n",
    "\n",
    "with open(\"flight_data_v3.json\", \"r+\") as file_obj:\n",
    "    flight_data = json.load(file_obj)\n",
    "\n",
    "with open(\"order_data_v3.json\", \"r+\") as file_obj:\n",
    "    order_data = json.load(file_obj)\n",
    "\n",
    "with open(\"passenger_data_v3.json\", \"r+\") as file_obj:\n",
    "    passenger_data = json.load(file_obj)"
   ]
  },
  {
   "cell_type": "code",
   "execution_count": null,
   "metadata": {},
   "outputs": [],
   "source": [
    "# int seatClass,\n",
    "# String seatNo,\n",
    "# boolean lockedStatus,\n",
    "# Passenger passenger,\n",
    "# int checkInStatus\n",
    "business_seat_no = ['A', 'B', 'C', 'D', 'E', 'F', 'G']\n",
    "tri_seating = dict()\n",
    "for i in range(1, 4):\n",
    "    no = str(i)\n",
    "    no = \"0\" + no\n",
    "    for j in range(6):\n",
    "        seat_obj = dict()\n",
    "        seat_obj['seatClass'] = 2\n",
    "        seat_obj['seatNo'] = no + business_seat_no[j]\n",
    "        seat_obj['lockedStatus'] = False\n",
    "        seat_obj['passenger'] = {\n",
    "            'extraOptions': []\n",
    "        }\n",
    "        seat_obj['checkinStatus'] = -1\n",
    "        tri_seating[seat_obj['seatNo']] = seat_obj"
   ]
  },
  {
   "cell_type": "code",
   "execution_count": null,
   "metadata": {},
   "outputs": [],
   "source": [
    "for i in range(5, 40):\n",
    "    if i == 13: continue\n",
    "    no = str(i)\n",
    "    if i < 10 : no = \"0\" + no\n",
    "    for j in range(7):\n",
    "        if i > 13 and i < 18 and j > 1 and j < 5: continue\n",
    "        seat_obj = dict()\n",
    "        seat_obj['seatClass'] = 0\n",
    "        seat_obj['seatNo'] = no + business_seat_no[j]\n",
    "        seat_obj['lockedStatus'] = False\n",
    "        seat_obj['passenger'] = {\n",
    "            'extraOptions': []\n",
    "        }\n",
    "        seat_obj['checkinStatus'] = -1\n",
    "        tri_seating[seat_obj['seatNo']] = seat_obj"
   ]
  },
  {
   "cell_type": "code",
   "execution_count": null,
   "metadata": {},
   "outputs": [],
   "source": [
    "# int seatClass,\n",
    "# String seatNo,\n",
    "# boolean lockedStatus,\n",
    "# Passenger passenger,\n",
    "# int checkInStatus\n",
    "first_seat_no = ['A', 'C', 'J', 'L']\n",
    "two_seating = dict()\n",
    "for i in range(1, 3):\n",
    "    no = str(i)\n",
    "    no = \"0\" + no\n",
    "    for j in range(4):\n",
    "        seat_obj = dict()\n",
    "        seat_obj['seatClass'] = 1\n",
    "        seat_obj['seatNo'] = no + first_seat_no[j]\n",
    "        seat_obj['lockedStatus'] = False\n",
    "        seat_obj['passenger'] = {\n",
    "            'extraOptions': []\n",
    "        }\n",
    "        seat_obj['checkinStatus'] = -1\n",
    "        two_seating[seat_obj['seatNo']] = seat_obj"
   ]
  },
  {
   "cell_type": "code",
   "execution_count": null,
   "metadata": {},
   "outputs": [],
   "source": [
    "two_economy_no = ['A','B','C','J','K','L']\n",
    "for i in range(11, 31):\n",
    "    no = str(i)\n",
    "    for j in range(6):\n",
    "        seat_obj = dict()\n",
    "        seat_obj['seatClass'] = 0\n",
    "        seat_obj['seatNo'] = no + two_economy_no[j]\n",
    "        seat_obj['lockedStatus'] = False\n",
    "        seat_obj['passenger'] = {\n",
    "            'extraOptions': []\n",
    "        }\n",
    "        seat_obj['checkinStatus'] = -1\n",
    "        two_seating[seat_obj['seatNo']] = seat_obj"
   ]
  },
  {
   "cell_type": "code",
   "execution_count": null,
   "metadata": {},
   "outputs": [],
   "source": [
    "import pprint as ppt\n",
    "\n",
    "# for entry in two_seating.items():\n",
    "#     ppt.pprint(entry)\n",
    "\n",
    "# for entry in tri_seating.items():\n",
    "#     ppt.pprint(entry)"
   ]
  },
  {
   "cell_type": "code",
   "execution_count": null,
   "metadata": {},
   "outputs": [],
   "source": [
    "# with open('hefei_roadnet_v2.json', 'w+', encoding='utf-8') as file_obj:\n",
    "#     json.dump(way_cood, file_obj, indent=4, ensure_ascii=False)\n",
    "with open(\"tri_seating.json\", \"w+\", encoding='utf-8') as file_obj:\n",
    "    json.dump(tri_seating, file_obj, indent=4, ensure_ascii=False)"
   ]
  },
  {
   "cell_type": "code",
   "execution_count": null,
   "metadata": {},
   "outputs": [],
   "source": [
    "with open(\"two_seating.json\", \"w+\", encoding='utf-8') as file_obj:\n",
    "    json.dump(two_seating, file_obj, indent=4, ensure_ascii=False)"
   ]
  },
  {
   "cell_type": "code",
   "execution_count": null,
   "metadata": {},
   "outputs": [],
   "source": [
    "flight_data[0]['flightType'] = 'A'\n",
    "flight_data[0]['seatingList'] = two_seating\n",
    "flight_data[0]['passengerOptions'] = {}\n",
    "flight_data[1]['flightType'] = 'A'\n",
    "flight_data[1]['seatingList'] = two_seating\n",
    "flight_data[1]['passengerOptions'] = {}"
   ]
  },
  {
   "cell_type": "code",
   "execution_count": null,
   "metadata": {},
   "outputs": [],
   "source": [
    "flight_data[2]['flightType'] = 'B'\n",
    "flight_data[2]['seatingList'] = tri_seating\n",
    "flight_data[2]['passengerOptions'] = {}\n",
    "flight_data[3]['flightType'] = 'B'\n",
    "flight_data[3]['seatingList'] = tri_seating\n",
    "flight_data[3]['passengerOptions'] = {}"
   ]
  },
  {
   "cell_type": "code",
   "execution_count": null,
   "metadata": {},
   "outputs": [],
   "source": [
    "with open('ken_flight.json', 'w+', encoding='utf-8') as file_obj:\n",
    "    json.dump(flight_data, file_obj, indent=4, ensure_ascii=False)"
   ]
  },
  {
   "cell_type": "code",
   "execution_count": null,
   "metadata": {},
   "outputs": [],
   "source": [
    "with open('flight_data_v4.json', 'w+', encoding='utf-8') as file_obj:\n",
    "    json.dump(flight_data, file_obj)"
   ]
  },
  {
   "cell_type": "code",
   "execution_count": null,
   "metadata": {},
   "outputs": [],
   "source": [
    "import pandas as pd\n",
    "\n",
    "df = pd.read_csv('passenger_raw.csv')\n",
    "df.head()"
   ]
  },
  {
   "cell_type": "code",
   "execution_count": null,
   "metadata": {},
   "outputs": [],
   "source": [
    "df['firstName'] = df.name.map(lambda x: x.split(\" \")[0])\n",
    "df['surName'] = df.name.map(lambda x: x.split(\" \")[1])"
   ]
  },
  {
   "cell_type": "code",
   "execution_count": null,
   "metadata": {},
   "outputs": [],
   "source": [
    "df = df.drop(['name'], axis=1)"
   ]
  },
  {
   "cell_type": "code",
   "execution_count": null,
   "metadata": {},
   "outputs": [],
   "source": [
    "extra_options_df = df.iloc[:, 2:5]\n",
    "passenger_df = df.drop(['kind','price','description','firstName'], axis=1)"
   ]
  },
  {
   "cell_type": "code",
   "execution_count": null,
   "metadata": {},
   "outputs": [],
   "source": [
    "import numpy as np\n",
    "\n",
    "def randfloat(num, l, h):\n",
    "    if l > h:\n",
    "        return None\n",
    "    else:\n",
    "        a = h - l\n",
    "        b = h - a\n",
    "        out = (np.random.rand(num) * a + b).tolist()\n",
    "        out = np.array(out)\n",
    "        return out\n",
    "\n",
    "def rand_credit_card():\n",
    "    rand_list = randfloat(4, 1000, 9999)\n",
    "    res_str = \"{:.0f}-{:.0f}-{:.0f}-{:.0f}\".format(\n",
    "        rand_list[0],\n",
    "        rand_list[1],\n",
    "        rand_list[2],\n",
    "        rand_list[3]\n",
    "    )\n",
    "    return res_str"
   ]
  },
  {
   "cell_type": "code",
   "execution_count": null,
   "metadata": {},
   "outputs": [],
   "source": [
    "passenger_dict = passenger_df.to_dict()\n",
    "extra_options_dict = extra_options_df.to_dict()\n",
    "\n",
    "new_passenger_data = dict([\n",
    "    (i,{}) for i in range(len(df.index))\n",
    "])\n",
    "\n",
    "for i in range(len(df.index)):\n",
    "    cur_passenger = new_passenger_data[i]\n",
    "    cur_option = dict()\n",
    "\n",
    "    cur_passenger['baggage'] = dict()\n",
    "\n",
    "    for key in passenger_dict.keys():\n",
    "        cur_passenger[key] = str(passenger_dict[key][i])\n",
    "    for key in extra_options_dict.keys():\n",
    "        cur_option[key] = int(extra_options_dict[key][i]) if key == 'kind' or key == 'price' else str(extra_options_dict[key][i])\n",
    "    cur_passenger['extraOptions'] = [cur_option]\n",
    "\n",
    "    cur_passenger['creditCard'] = {\n",
    "        'cardNo': rand_credit_card()\n",
    "    }\n",
    "\n",
    "    cur_passenger['boardingPass'] = {\n",
    "        'all': 'null;null;null;null;null;null;null;null'\n",
    "    }\n",
    "\n",
    "    new_passenger_data[i] = cur_passenger"
   ]
  },
  {
   "cell_type": "code",
   "execution_count": null,
   "metadata": {},
   "outputs": [],
   "source": [
    "res_passenger_data = [ele for ele in new_passenger_data.values()]\n",
    "\n",
    "# with open('passenger_data_v4.json', 'w+', encoding='utf-8') as file_obj:\n",
    "#     json.dump(res_passenger_data, file_obj, indent=4, ensure_ascii=False)\n",
    "with open('passenger_data_v4.json', 'w+', encoding='utf-8') as file_obj:\n",
    "    json.dump(res_passenger_data, file_obj, ensure_ascii=False)"
   ]
  },
  {
   "cell_type": "code",
   "execution_count": null,
   "metadata": {},
   "outputs": [],
   "source": [
    "order_data = dict([\n",
    "    (i,{}) for i in range(len(df.index))\n",
    "])\n",
    "\n",
    "for i in range(len(df.index)):\n",
    "    passenger_obj = new_passenger_data[i]\n",
    "    cur_order = order_data[i]\n",
    "    if i <= 15:\n",
    "        cur_order['flightNo'] = flight_data[0]['flightNo']\n",
    "        cur_order['seatClass'] = int(randfloat(1, 0, 2)[0])\n",
    "    elif i <= 30:\n",
    "        cur_order['flightNo'] = flight_data[1]['flightNo']\n",
    "        cur_order['seatClass'] = int(randfloat(1, 0, 2)[0])\n",
    "    elif i <= 45:\n",
    "        cur_order['flightNo'] = flight_data[2]['flightNo']\n",
    "        cur_order['seatClass'] = 0 if int(randfloat(1, 1, 3)[0]) == 1 else 2\n",
    "    else:\n",
    "        cur_order['flightNo'] = flight_data[3]['flightNo']\n",
    "        cur_order['seatClass'] = 0 if int(randfloat(1, 1, 3)[0]) == 1 else 2\n",
    "    cur_order['passengerID'] = passenger_obj['passengerId']\n",
    "    cur_order['bookNumber'] = passenger_obj['bookNumber']\n",
    "    order_data[i] = cur_order"
   ]
  },
  {
   "cell_type": "code",
   "execution_count": null,
   "metadata": {},
   "outputs": [],
   "source": [
    "res_order_data = [ele for ele in order_data.values()]\n",
    "\n",
    "with open('order_data_v4.json', 'w+', encoding='utf-8') as file_obj:\n",
    "    json.dump(res_order_data, file_obj, ensure_ascii=False)"
   ]
  },
  {
   "cell_type": "code",
   "execution_count": null,
   "metadata": {},
   "outputs": [],
   "source": [
    "# 一个人多订一班\n",
    "harris_another_order = {\n",
    "    \"flightNo\": \"CA8852\",\n",
    "    \"seatClass\": 1,\n",
    "    \"passengerID\": \"619531\",\n",
    "    \"bookNumber\": \"77362547\"\n",
    "}\n",
    "harris_another_passenger = {\n",
    "    \"baggage\": {},\n",
    "    \"bookNumber\": \"77362547\",\n",
    "    \"passengerId\": \"619531\",\n",
    "    \"surName\": \"Harris\",\n",
    "    \"extraOptions\": [\n",
    "        {\n",
    "            \"kind\": 1,\n",
    "            \"price\": 5,\n",
    "            \"description\": \"Hamburger\"\n",
    "        }\n",
    "    ],\n",
    "    \"creditCard\": {\n",
    "        \"cardNo\": \"6737-1451-4966-5004\"\n",
    "    },\n",
    "    \"boardingPass\": {\n",
    "        \"all\": \"null;null;null;null;null;null;null;null\"\n",
    "    }\n",
    "}"
   ]
  },
  {
   "cell_type": "code",
   "execution_count": null,
   "metadata": {},
   "outputs": [],
   "source": [
    "res_order_data.append(harris_another_order)\n",
    "res_passenger_data.append(harris_another_passenger)\n",
    "\n",
    "with open('passenger_data_v4.json', 'w+', encoding='utf-8') as file_obj:\n",
    "    json.dump(res_passenger_data, file_obj, ensure_ascii=False)\n",
    "with open('order_data_v4.json', 'w+', encoding='utf-8') as file_obj:\n",
    "    json.dump(res_order_data, file_obj, ensure_ascii=False)"
   ]
  },
  {
   "cell_type": "code",
   "execution_count": null,
   "metadata": {},
   "outputs": [],
   "source": []
  }
 ],
 "metadata": {
  "interpreter": {
   "hash": "2e918aaa81d99c652401bdd1a0c185581595fb477ac919641bd65261b5d7782a"
  },
  "kernelspec": {
   "display_name": "Python 3.8.5 ('base')",
   "language": "python",
   "name": "python3"
  },
  "language_info": {
   "codemirror_mode": {
    "name": "ipython",
    "version": 3
   },
   "file_extension": ".py",
   "mimetype": "text/x-python",
   "name": "python",
   "nbconvert_exporter": "python",
   "pygments_lexer": "ipython3",
   "version": "3.8.5"
  },
  "orig_nbformat": 4
 },
 "nbformat": 4,
 "nbformat_minor": 2
}
